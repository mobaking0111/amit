{
 "cells": [
  {
   "cell_type": "code",
   "execution_count": 6,
   "id": "33a9b216-7659-40ca-940e-2e1db206b8de",
   "metadata": {},
   "outputs": [
    {
     "name": "stdout",
     "output_type": "stream",
     "text": [
      "10 + 5 = 15\n",
      "15 - 7 = 8\n",
      "3 * 4 = 12\n",
      "12 / 3 = 4.0\n"
     ]
    }
   ],
   "source": [
    "class Calculator:\n",
    "    def add(self, num1, num2):\n",
    "        return num1 + num2\n",
    "    def subtract(self, num1, num2):\n",
    "        return num1 - num2\n",
    "\n",
    "    def multiply(self, num1, num2):\n",
    "        return num1 * num2\n",
    "\n",
    "    def divide(self, num1, num2):\n",
    "        if num2 == 0:\n",
    "          return \"Error: Division by zero is not allowed.\"\n",
    "        return num1 / num2\n",
    "\n",
    "calculator = Calculator()\n",
    "result_add = calculator.add(10, 5)\n",
    "result_subtract = calculator.subtract(15, 7)\n",
    "result_multiply = calculator.multiply(3, 4)\n",
    "result_divide = calculator.divide(12, 3)\n",
    "\n",
    "print(\"10 + 5 =\", result_add)\n",
    "print(\"15 - 7 =\", result_subtract)\n",
    "print(\"3 * 4 =\", result_multiply)\n",
    "print(\"12 / 3 =\", result_divide)\n"
   ]
  },
  {
   "cell_type": "code",
   "execution_count": 9,
   "id": "6f8b98f6-6ce8-45dd-823b-5f75a7ab98e5",
   "metadata": {},
   "outputs": [
    {
     "name": "stdout",
     "output_type": "stream",
     "text": [
      "Length: 5\n",
      "Width: 3\n",
      "Perimeter: 16\n",
      "Area: 15\n",
      "\n",
      "Parallelepiped:\n",
      "Length: 4\n",
      "Width: 2\n",
      "Perimeter: 12\n",
      "Area: 8\n",
      "Volume: 48\n"
     ]
    }
   ],
   "source": [
    "class Rectangle:\n",
    "  def __init__(self, length, width):\n",
    "    self.length = length\n",
    "    self.width = width\n",
    "\n",
    "  def perimeter(self):\n",
    "    return 2 * (self.length + self.width)\n",
    "\n",
    "  def area(self):\n",
    "    return self.length * self.width\n",
    "\n",
    "  def display(self):\n",
    "    print(\"Length:\", self.length)\n",
    "    print(\"Width:\", self.width)\n",
    "    print(\"Perimeter:\", self.perimeter())\n",
    "    print(\"Area:\", self.area())\n",
    "\n",
    "class Parallelepiped(Rectangle):\n",
    "  def __init__(self, length, width, height):\n",
    "    super().__init__(length, width)\n",
    "    self.height = height\n",
    "\n",
    "  def volume(self):\n",
    "    return self.length * self.width * self.height\n",
    "\n",
    "rectangle = Rectangle(5, 3)\n",
    "rectangle.display()\n",
    "\n",
    "parallelepiped = Parallelepiped(4, 2, 6)\n",
    "print(\"\\nParallelepiped:\")\n",
    "parallelepiped.display()\n",
    "print(\"Volume:\", parallelepiped.volume())\n"
   ]
  },
  {
   "cell_type": "code",
   "execution_count": null,
   "id": "ce9d17af-a112-4894-be0c-e7e244e4c8df",
   "metadata": {},
   "outputs": [],
   "source": [
    "Task 3: Person class and child Student class \n",
    "Create a Python class Person with attributes: name and age of type string.  \n",
    "1. Create a display() method that displays the name and age of an object created via the Person class.  \n",
    "2. Create a child class Student which inherits from the Person class and which also has a section \n",
    "attribute.  \n",
    "3. Create a method displayStudent() that displays the name, age and section of an object created via the \n",
    "Student class.  \n",
    "4. Create a student object via an instantiation on the Student class and then test the displayStudent \n",
    "method."
   ]
  }
 ],
 "metadata": {
  "kernelspec": {
   "display_name": "Python 3 (ipykernel)",
   "language": "python",
   "name": "python3"
  },
  "language_info": {
   "codemirror_mode": {
    "name": "ipython",
    "version": 3
   },
   "file_extension": ".py",
   "mimetype": "text/x-python",
   "name": "python",
   "nbconvert_exporter": "python",
   "pygments_lexer": "ipython3",
   "version": "3.11.7"
  }
 },
 "nbformat": 4,
 "nbformat_minor": 5
}
