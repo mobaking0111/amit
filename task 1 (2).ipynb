{
 "cells": [
  {
   "cell_type": "code",
   "execution_count": 3,
   "id": "a6eed0d4-99f2-407c-a0b9-d23baba82298",
   "metadata": {},
   "outputs": [
    {
     "name": "stdin",
     "output_type": "stream",
     "text": [
      "Enter first number:  15\n",
      "Enter second number:  25\n"
     ]
    },
    {
     "name": "stdout",
     "output_type": "stream",
     "text": [
      "0. Exit\n",
      "1. Add\n",
      "2. Subtraction\n",
      "3. Multiplication\n",
      "4. Division\n"
     ]
    },
    {
     "name": "stdin",
     "output_type": "stream",
     "text": [
      "Enter choice:  1\n"
     ]
    },
    {
     "name": "stdout",
     "output_type": "stream",
     "text": [
      "Result:  40\n",
      "0. Exit\n",
      "1. Add\n",
      "2. Subtraction\n",
      "3. Multiplication\n",
      "4. Division\n"
     ]
    },
    {
     "name": "stdin",
     "output_type": "stream",
     "text": [
      "Enter choice:  2\n"
     ]
    },
    {
     "name": "stdout",
     "output_type": "stream",
     "text": [
      "Result:  -10\n",
      "0. Exit\n",
      "1. Add\n",
      "2. Subtraction\n",
      "3. Multiplication\n",
      "4. Division\n"
     ]
    },
    {
     "name": "stdin",
     "output_type": "stream",
     "text": [
      "Enter choice:  5\n"
     ]
    },
    {
     "name": "stdout",
     "output_type": "stream",
     "text": [
      "Invalid choice!!\n",
      "0. Exit\n",
      "1. Add\n",
      "2. Subtraction\n",
      "3. Multiplication\n",
      "4. Division\n"
     ]
    },
    {
     "name": "stdin",
     "output_type": "stream",
     "text": [
      "Enter choice:  4\n"
     ]
    },
    {
     "name": "stdout",
     "output_type": "stream",
     "text": [
      "Result:  0.6\n",
      "0. Exit\n",
      "1. Add\n",
      "2. Subtraction\n",
      "3. Multiplication\n",
      "4. Division\n"
     ]
    },
    {
     "name": "stdin",
     "output_type": "stream",
     "text": [
      "Enter choice:  1\n"
     ]
    },
    {
     "name": "stdout",
     "output_type": "stream",
     "text": [
      "Result:  40\n",
      "0. Exit\n",
      "1. Add\n",
      "2. Subtraction\n",
      "3. Multiplication\n",
      "4. Division\n"
     ]
    },
    {
     "name": "stdin",
     "output_type": "stream",
     "text": [
      "Enter choice:  0\n"
     ]
    },
    {
     "name": "stdout",
     "output_type": "stream",
     "text": [
      "Exiting!\n",
      "\n"
     ]
    }
   ],
   "source": [
    "class cal ():\n",
    "    def __init__(self,a,b):\n",
    "        self.a=a\n",
    "        self.b=b\n",
    "    def add(self):\n",
    "        return self.a+self.b\n",
    "    def mul(self):\n",
    "        return self.a*self.b\n",
    "    def div(self):\n",
    "        return self.a/self.b\n",
    "    def sub(self):\n",
    "        return self.a-self.b\n",
    "a=int(input(\"Enter first number: \"))\n",
    "b=int(input(\"Enter second number: \"))\n",
    "obj=cal(a,b)\n",
    "choice=1\n",
    "while choice!=0:\n",
    "    print(\"0. Exit\")\n",
    "    print(\"1. Add\")\n",
    "    print(\"2. Subtraction\")\n",
    "    print(\"3. Multiplication\")\n",
    "    print(\"4. Division\")\n",
    "    choice=int(input(\"Enter choice: \"))\n",
    "    if choice==1:\n",
    "        print(\"Result: \",obj.add())\n",
    "    elif choice==2:\n",
    "        print(\"Result: \",obj.sub())\n",
    "    elif choice==3:\n",
    "        print(\"Result: \",obj.mul())\n",
    "    elif choice==4:\n",
    "        print(\"Result: \",round(obj.div(),2))\n",
    "    elif choice==0:\n",
    "        print(\"Exiting!\")\n",
    "    else:\n",
    "        print(\"Invalid choice!!\")\n",
    " \n",
    " \n",
    "print()"
   ]
  },
  {
   "cell_type": "code",
   "execution_count": 24,
   "id": "05d269b2-8882-4abb-a242-aa619c3ed71b",
   "metadata": {},
   "outputs": [
    {
     "name": "stdin",
     "output_type": "stream",
     "text": [
      "enter your num plz 9\n"
     ]
    },
    {
     "name": "stdout",
     "output_type": "stream",
     "text": [
      "Factorial of 9 : 362880\n",
      "Sum of natural numbers from 1 to 9 : 45\n",
      "9 is not prime.\n",
      "9 x 1 = 9\n",
      "9 x 2 = 18\n",
      "9 x 3 = 27\n",
      "9 x 4 = 36\n",
      "9 x 5 = 45\n",
      "9 x 6 = 54\n",
      "9 x 7 = 63\n",
      "9 x 8 = 72\n",
      "9 x 9 = 81\n",
      "Divisors of 9 : [1, 9, 3]\n"
     ]
    }
   ],
   "source": [
    "class Computation:\n",
    "    def __init__(self, num):\n",
    "        self.num = num\n",
    "\n",
    "    def factorial(self):\n",
    "        if self.num < 0:\n",
    "            return \"Factorial is not defined for negative numbers.\"\n",
    "        elif self.num == 0:\n",
    "            return 1\n",
    "        product = 1\n",
    "        for i in range(1, self.num + 1):\n",
    "            product *= i\n",
    "        return product\n",
    "\n",
    "    def sum_of_natural_numbers(self):\n",
    "        if self.num < 1:\n",
    "            return \"Sum cannot be calculated for non-positive numbers.\"\n",
    "        total = 0\n",
    "        for i in range(1, self.num + 1):\n",
    "            total += i\n",
    "        return total\n",
    "\n",
    "    def is_prime(self):\n",
    "        if self.num <= 1:\n",
    "            return False\n",
    "        for i in range(2, int(self.num**0.5) + 1):\n",
    "            if self.num % i == 0:\n",
    "                return False\n",
    "        return True\n",
    "\n",
    "    def multiplication_table(self, num):\n",
    "        for i in range(1, num + 1):\n",
    "            result = self.num * i\n",
    "            print(f\"{self.num} x {i} = {result}\")\n",
    "\n",
    "    def get_divisors(self):\n",
    "        divisors = []\n",
    "        for i in range(1, int(self.num**0.5) + 1):\n",
    "            if self.num % i == 0:\n",
    "                divisors.append(i)\n",
    "                if i != self.num // i:\n",
    "                    divisors.append(self.num // i)\n",
    "        return divisors\n",
    "\n",
    "# Example usage\n",
    "num = int(input(\"enter your num plz\"))\n",
    "calculator = Computation(num)\n",
    "\n",
    "print(\"Factorial of\", num, \":\", calculator.factorial())\n",
    "print(\"Sum of natural numbers from 1 to\", num, \":\", calculator.sum_of_natural_numbers())\n",
    "\n",
    "if calculator.is_prime():\n",
    "    print(num, \"is prime.\")\n",
    "else:\n",
    "    print(num, \"is not prime.\")\n",
    "\n",
    "calculator.multiplication_table(num)\n",
    "\n",
    "print(\"Divisors of\", num, \":\", calculator.get_divisors())\n"
   ]
  },
  {
   "cell_type": "code",
   "execution_count": 32,
   "id": "d64a90f4-2376-4002-91f0-0f7bb885da63",
   "metadata": {},
   "outputs": [],
   "source": [
    "###task 2 in assignment 4 ###"
   ]
  },
  {
   "cell_type": "code",
   "execution_count": 36,
   "id": "427c2cbe-ba29-43e8-afaf-efb4b2fc27e7",
   "metadata": {},
   "outputs": [
    {
     "name": "stdin",
     "output_type": "stream",
     "text": [
      "Enter shape type (rectangle, triangle, circle):  rectangle\n",
      "Enter rectangle length:  5\n",
      "Enter rectangle width:  2\n"
     ]
    },
    {
     "name": "stdout",
     "output_type": "stream",
     "text": [
      "Area of the Rectangle : 10.0\n"
     ]
    }
   ],
   "source": [
    "from abc import ABC, abstractmethod\n",
    "\n",
    "class Shape(ABC):\n",
    "  @abstractmethod\n",
    "  def area(self):\n",
    "    pass\n",
    "\n",
    "class Rectangle(Shape):\n",
    "  def __init__(self, l, w):\n",
    "    self.length = l\n",
    "    self.width = w\n",
    "\n",
    "  def area(self):\n",
    "    return self.length * self.width\n",
    "\n",
    "class Triangle(Shape):\n",
    "  def __init__(self, b, h):\n",
    "    self.base = b\n",
    "    self.height = h\n",
    "\n",
    "  def area(self):\n",
    "    return 0.5 * self.base * self.height\n",
    "\n",
    "class Circle(Shape):\n",
    "  def __init__(self, r):\n",
    "    self.radius = r\n",
    "\n",
    "  def area(self):\n",
    "    import math\n",
    "    return math.pi * self.radius**2\n",
    "\n",
    "def get_shape_data():\n",
    "  shape_type = input(\"Enter shape type (rectangle, triangle, circle): \")\n",
    "  if shape_type.lower() == \"rectangle\":\n",
    "    l = float(input(\"Enter rectangle length: \"))\n",
    "    w = float(input(\"Enter rectangle width: \"))\n",
    "    return Rectangle(l, w)\n",
    "  elif shape_type.lower() == \"triangle\":\n",
    "    b = float(input(\"Enter triangle base: \"))\n",
    "    h = float(input(\"Enter triangle height: \"))\n",
    "    return Triangle(b, h)\n",
    "  elif shape_type.lower() == \"circle\":\n",
    "    r = float(input(\"Enter circle radius: \"))\n",
    "    return Circle(r)\n",
    "  else:\n",
    "    print(\"Invalid shape type.\")\n",
    "    return None\n",
    "\n",
    "\n",
    "# Example usage\n",
    "shape = get_shape_data()\n",
    "if shape:\n",
    "  area = shape.area()\n",
    "  print(\"Area of the\", shape.__class__.__name__, \":\", area)\n"
   ]
  },
  {
   "cell_type": "code",
   "execution_count": null,
   "id": "897d4ebc-5c8e-4930-9df4-c9998486cddf",
   "metadata": {},
   "outputs": [],
   "source": []
  }
 ],
 "metadata": {
  "kernelspec": {
   "display_name": "Python 3 (ipykernel)",
   "language": "python",
   "name": "python3"
  },
  "language_info": {
   "codemirror_mode": {
    "name": "ipython",
    "version": 3
   },
   "file_extension": ".py",
   "mimetype": "text/x-python",
   "name": "python",
   "nbconvert_exporter": "python",
   "pygments_lexer": "ipython3",
   "version": "3.11.7"
  }
 },
 "nbformat": 4,
 "nbformat_minor": 5
}
